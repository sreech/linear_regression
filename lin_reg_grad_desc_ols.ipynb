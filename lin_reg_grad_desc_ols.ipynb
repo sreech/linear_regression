{
 "cells": [
  {
   "cell_type": "markdown",
   "metadata": {},
   "source": [
    "<img src=images/MIT_logo.jpg width=150 align=right />"
   ]
  },
  {
   "cell_type": "markdown",
   "metadata": {},
   "source": [
    "# PROFESSIONAL CERTIFICATE IN DATA SCIENCE AND ANALYTICS"
   ]
  },
  {
   "cell_type": "markdown",
   "metadata": {},
   "source": [
    "# Linear Regression: Part One"
   ]
  },
  {
   "cell_type": "code",
   "execution_count": 1,
   "metadata": {},
   "outputs": [],
   "source": [
    "import numpy as np\n",
    "import pandas as pd\n",
    "from scipy import stats\n",
    "from matplotlib import pyplot as plt\n",
    "from sklearn.linear_model import LinearRegression\n",
    "import statsmodels.formula.api as smf"
   ]
  },
  {
   "cell_type": "code",
   "execution_count": 2,
   "metadata": {},
   "outputs": [],
   "source": [
    "def abline(intercept, slope, color):\n",
    "    \"\"\"Plot a line from slope and intercept\"\"\"\n",
    "    axes = plt.gca()\n",
    "    x_vals = np.array(axes.get_xlim())\n",
    "    y_vals = intercept + slope * x_vals\n",
    "    x_vals, y_vals = x_vals.reshape(-1, 1),y_vals.reshape(-1, 1)\n",
    "    plt.plot(x_vals, y_vals, '--', color=color)"
   ]
  },
  {
   "cell_type": "markdown",
   "metadata": {},
   "source": [
    "## Simple linear regression\n",
    "$$y = b + wx$$\n",
    "\n",
    "We want to find an optimal set of values for $w$ and $b$ that minimize the residuals."
   ]
  },
  {
   "cell_type": "code",
   "execution_count": 3,
   "metadata": {},
   "outputs": [
    {
     "name": "stdout",
     "output_type": "stream",
     "text": [
      "[9.39301572] [[2.10421414]]\n"
     ]
    },
    {
     "data": {
      "image/png": "[encoded data removed]",
      "text/plain": [
       "<Figure size 640x480 with 1 Axes>"
      ]
     },
     "metadata": {},
     "output_type": "display_data"
    }
   ],
   "source": [
    "x = np.random.uniform(0, 10, 20)\n",
    "y = 10 + x * 2 + np.random.randn(20) * 2\n",
    "x, y = x.reshape(-1, 1), y.reshape(-1, 1)\n",
    "\n",
    "lr = LinearRegression()\n",
    "lr.fit(x, y)\n",
    "\n",
    "print(lr.intercept_, lr.coef_)\n",
    "\n",
    "plt.scatter(x, y)\n",
    "abline(lr.intercept_, lr.coef_, 'tab:orange')\n",
    "abline(25, -1, 'tab:green')\n",
    "plt.ylim((0, 40))\n",
    "\n",
    "plt.show()"
   ]
  },
  {
   "cell_type": "markdown",
   "metadata": {},
   "source": [
    "## Multiple linear regression\n",
    "Each data point now has many values (dimensions), not just X.\n",
    "\n",
    "We still want to predict a single Y by finding an optimal vector of coefficients.\n",
    "\n",
    "$$\n",
    "y = b + w_1x_1 + w_2x_2 + \\ldots + w_nx_n\n",
    "$$\n",
    "\n",
    "$$\n",
    "y = w_01 + w_1x_1 + w_2x_2 + \\ldots + w_nx_n\n",
    "$$"
   ]
  },
  {
   "cell_type": "code",
   "execution_count": 4,
   "metadata": {},
   "outputs": [
    {
     "name": "stdout",
     "output_type": "stream",
     "text": [
      "0.11188128436095279 [ 0.05911987  0.0986361  -0.06080253]\n"
     ]
    }
   ],
   "source": [
    "n = 100\n",
    "y = np.random.uniform(0, 1, n)\n",
    "X = np.array([y *  2 + np.random.randn(n) * 1,\n",
    "              y *  5 + np.random.randn(n) * 1,\n",
    "              y * -3 + np.random.randn(n) * 1]).reshape(3, n).T\n",
    "\n",
    "lr = LinearRegression()\n",
    "lr.fit(X, y)\n",
    "\n",
    "print(lr.intercept_, lr.coef_)"
   ]
  },
  {
   "cell_type": "code",
   "execution_count": 5,
   "metadata": {},
   "outputs": [
    {
     "data": {
      "text/html": [
       "<div>\n",
       "<style scoped>\n",
       "    .dataframe tbody tr th:only-of-type {\n",
       "        vertical-align: middle;\n",
       "    }\n",
       "\n",
       "    .dataframe tbody tr th {\n",
       "        vertical-align: top;\n",
       "    }\n",
       "\n",
       "    .dataframe thead th {\n",
       "        text-align: right;\n",
       "    }\n",
       "</style>\n",
       "<table border=\"1\" class=\"dataframe\">\n",
       "  <thead>\n",
       "    <tr style=\"text-align: right;\">\n",
       "      <th></th>\n",
       "      <th>x1</th>\n",
       "      <th>x2</th>\n",
       "      <th>x3</th>\n",
       "      <th>y</th>\n",
       "    </tr>\n",
       "  </thead>\n",
       "  <tbody>\n",
       "    <tr>\n",
       "      <th>0</th>\n",
       "      <td>0.294982</td>\n",
       "      <td>-1.733666</td>\n",
       "      <td>2.435409</td>\n",
       "      <td>0.036110</td>\n",
       "    </tr>\n",
       "    <tr>\n",
       "      <th>1</th>\n",
       "      <td>1.092563</td>\n",
       "      <td>3.829175</td>\n",
       "      <td>-2.491718</td>\n",
       "      <td>0.912366</td>\n",
       "    </tr>\n",
       "    <tr>\n",
       "      <th>2</th>\n",
       "      <td>1.583250</td>\n",
       "      <td>4.944138</td>\n",
       "      <td>-1.638458</td>\n",
       "      <td>0.673580</td>\n",
       "    </tr>\n",
       "    <tr>\n",
       "      <th>3</th>\n",
       "      <td>0.599880</td>\n",
       "      <td>-2.029958</td>\n",
       "      <td>0.399593</td>\n",
       "      <td>0.037187</td>\n",
       "    </tr>\n",
       "    <tr>\n",
       "      <th>4</th>\n",
       "      <td>0.911014</td>\n",
       "      <td>2.074438</td>\n",
       "      <td>-1.305181</td>\n",
       "      <td>0.472697</td>\n",
       "    </tr>\n",
       "    <tr>\n",
       "      <th>...</th>\n",
       "      <td>...</td>\n",
       "      <td>...</td>\n",
       "      <td>...</td>\n",
       "      <td>...</td>\n",
       "    </tr>\n",
       "    <tr>\n",
       "      <th>95</th>\n",
       "      <td>1.313279</td>\n",
       "      <td>3.322518</td>\n",
       "      <td>-3.063117</td>\n",
       "      <td>0.744977</td>\n",
       "    </tr>\n",
       "    <tr>\n",
       "      <th>96</th>\n",
       "      <td>0.474695</td>\n",
       "      <td>1.066763</td>\n",
       "      <td>-1.561341</td>\n",
       "      <td>0.258404</td>\n",
       "    </tr>\n",
       "    <tr>\n",
       "      <th>97</th>\n",
       "      <td>0.568782</td>\n",
       "      <td>3.120273</td>\n",
       "      <td>-1.772464</td>\n",
       "      <td>0.573371</td>\n",
       "    </tr>\n",
       "    <tr>\n",
       "      <th>98</th>\n",
       "      <td>1.063883</td>\n",
       "      <td>3.314937</td>\n",
       "      <td>-3.693434</td>\n",
       "      <td>0.805659</td>\n",
       "    </tr>\n",
       "    <tr>\n",
       "      <th>99</th>\n",
       "      <td>0.399874</td>\n",
       "      <td>1.508917</td>\n",
       "      <td>-1.085082</td>\n",
       "      <td>0.297489</td>\n",
       "    </tr>\n",
       "  </tbody>\n",
       "</table>\n",
       "<p>100 rows × 4 columns</p>\n",
       "</div>"
      ],
      "text/plain": [
       "          x1        x2        x3         y\n",
       "0   0.294982 -1.733666  2.435409  0.036110\n",
       "1   1.092563  3.829175 -2.491718  0.912366\n",
       "2   1.583250  4.944138 -1.638458  0.673580\n",
       "3   0.599880 -2.029958  0.399593  0.037187\n",
       "4   0.911014  2.074438 -1.305181  0.472697\n",
       "..       ...       ...       ...       ...\n",
       "95  1.313279  3.322518 -3.063117  0.744977\n",
       "96  0.474695  1.066763 -1.561341  0.258404\n",
       "97  0.568782  3.120273 -1.772464  0.573371\n",
       "98  1.063883  3.314937 -3.693434  0.805659\n",
       "99  0.399874  1.508917 -1.085082  0.297489\n",
       "\n",
       "[100 rows x 4 columns]"
      ]
     },
     "execution_count": 5,
     "metadata": {},
     "output_type": "execute_result"
    }
   ],
   "source": [
    "df = pd.DataFrame(X, columns=['x1', 'x2', 'x3'])\n",
    "df['y'] = pd.Series(y)\n",
    "df"
   ]
  },
  {
   "cell_type": "code",
   "execution_count": 6,
   "metadata": {},
   "outputs": [
    {
     "data": {
      "text/html": [
       "<table class=\"simpletable\">\n",
       "<caption>OLS Regression Results</caption>\n",
       "<tr>\n",
       "  <th>Dep. Variable:</th>            <td>y</td>        <th>  R-squared:         </th> <td>   0.824</td>\n",
       "</tr>\n",
       "<tr>\n",
       "  <th>Model:</th>                   <td>OLS</td>       <th>  Adj. R-squared:    </th> <td>   0.819</td>\n",
       "</tr>\n",
       "<tr>\n",
       "  <th>Method:</th>             <td>Least Squares</td>  <th>  F-statistic:       </th> <td>   150.3</td>\n",
       "</tr>\n",
       "<tr>\n",
       "  <th>Date:</th>             <td>Mon, 18 Dec 2023</td> <th>  Prob (F-statistic):</th> <td>3.83e-36</td>\n",
       "</tr>\n",
       "<tr>\n",
       "  <th>Time:</th>                 <td>10:32:16</td>     <th>  Log-Likelihood:    </th> <td>  63.713</td>\n",
       "</tr>\n",
       "<tr>\n",
       "  <th>No. Observations:</th>      <td>   100</td>      <th>  AIC:               </th> <td>  -119.4</td>\n",
       "</tr>\n",
       "<tr>\n",
       "  <th>Df Residuals:</th>          <td>    96</td>      <th>  BIC:               </th> <td>  -109.0</td>\n",
       "</tr>\n",
       "<tr>\n",
       "  <th>Df Model:</th>              <td>     3</td>      <th>                     </th>     <td> </td>   \n",
       "</tr>\n",
       "<tr>\n",
       "  <th>Covariance Type:</th>      <td>nonrobust</td>    <th>                     </th>     <td> </td>   \n",
       "</tr>\n",
       "</table>\n",
       "<table class=\"simpletable\">\n",
       "<tr>\n",
       "      <td></td>         <th>coef</th>     <th>std err</th>      <th>t</th>      <th>P>|t|</th>  <th>[0.025</th>    <th>0.975]</th>  \n",
       "</tr>\n",
       "<tr>\n",
       "  <th>Intercept</th> <td>    0.1119</td> <td>    0.022</td> <td>    5.111</td> <td> 0.000</td> <td>    0.068</td> <td>    0.155</td>\n",
       "</tr>\n",
       "<tr>\n",
       "  <th>x1</th>        <td>    0.0591</td> <td>    0.013</td> <td>    4.683</td> <td> 0.000</td> <td>    0.034</td> <td>    0.084</td>\n",
       "</tr>\n",
       "<tr>\n",
       "  <th>x2</th>        <td>    0.0986</td> <td>    0.010</td> <td>    9.837</td> <td> 0.000</td> <td>    0.079</td> <td>    0.119</td>\n",
       "</tr>\n",
       "<tr>\n",
       "  <th>x3</th>        <td>   -0.0608</td> <td>    0.014</td> <td>   -4.359</td> <td> 0.000</td> <td>   -0.088</td> <td>   -0.033</td>\n",
       "</tr>\n",
       "</table>\n",
       "<table class=\"simpletable\">\n",
       "<tr>\n",
       "  <th>Omnibus:</th>       <td> 0.473</td> <th>  Durbin-Watson:     </th> <td>   1.912</td>\n",
       "</tr>\n",
       "<tr>\n",
       "  <th>Prob(Omnibus):</th> <td> 0.789</td> <th>  Jarque-Bera (JB):  </th> <td>   0.620</td>\n",
       "</tr>\n",
       "<tr>\n",
       "  <th>Skew:</th>          <td>-0.061</td> <th>  Prob(JB):          </th> <td>   0.733</td>\n",
       "</tr>\n",
       "<tr>\n",
       "  <th>Kurtosis:</th>      <td> 2.634</td> <th>  Cond. No.          </th> <td>    6.39</td>\n",
       "</tr>\n",
       "</table><br/><br/>Notes:<br/>[1] Standard Errors assume that the covariance matrix of the errors is correctly specified."
      ],
      "text/plain": [
       "<class 'statsmodels.iolib.summary.Summary'>\n",
       "\"\"\"\n",
       "                            OLS Regression Results                            \n",
       "==============================================================================\n",
       "Dep. Variable:                      y   R-squared:                       0.824\n",
       "Model:                            OLS   Adj. R-squared:                  0.819\n",
       "Method:                 Least Squares   F-statistic:                     150.3\n",
       "Date:                Mon, 18 Dec 2023   Prob (F-statistic):           3.83e-36\n",
       "Time:                        10:32:16   Log-Likelihood:                 63.713\n",
       "No. Observations:                 100   AIC:                            -119.4\n",
       "Df Residuals:                      96   BIC:                            -109.0\n",
       "Df Model:                           3                                         \n",
       "Covariance Type:            nonrobust                                         \n",
       "==============================================================================\n",
       "                 coef    std err          t      P>|t|      [0.025      0.975]\n",
       "------------------------------------------------------------------------------\n",
       "Intercept      0.1119      0.022      5.111      0.000       0.068       0.155\n",
       "x1             0.0591      0.013      4.683      0.000       0.034       0.084\n",
       "x2             0.0986      0.010      9.837      0.000       0.079       0.119\n",
       "x3            -0.0608      0.014     -4.359      0.000      -0.088      -0.033\n",
       "==============================================================================\n",
       "Omnibus:                        0.473   Durbin-Watson:                   1.912\n",
       "Prob(Omnibus):                  0.789   Jarque-Bera (JB):                0.620\n",
       "Skew:                          -0.061   Prob(JB):                        0.733\n",
       "Kurtosis:                       2.634   Cond. No.                         6.39\n",
       "==============================================================================\n",
       "\n",
       "Notes:\n",
       "[1] Standard Errors assume that the covariance matrix of the errors is correctly specified.\n",
       "\"\"\""
      ]
     },
     "execution_count": 6,
     "metadata": {},
     "output_type": "execute_result"
    }
   ],
   "source": [
    "model = smf.ols('y ~ x1 + x2 + x3', data=df).fit()\n",
    "model.summary()"
   ]
  },
  {
   "cell_type": "markdown",
   "metadata": {},
   "source": [
    "## R<sup>2</sup>: coefficient of determination\n",
    "\n",
    "$R^2 = 1 - \\frac{\\textrm{unexplained variability}}{\\textrm{total variability}} = 1 - \\frac{SSR}{SST}$\n",
    "\n",
    "$R^2_{adj} = 1 - \\frac{SSR}{SST} \\cdot \\frac{n - 1}{n - k - 1} $"
   ]
  },
  {
   "cell_type": "code",
   "execution_count": 7,
   "metadata": {},
   "outputs": [
    {
     "name": "stdout",
     "output_type": "stream",
     "text": [
      "0.8244761337556936 0.8189910129355591\n"
     ]
    }
   ],
   "source": [
    "R2 = model.rsquared\n",
    "\n",
    "def R2_adjust(r2, n, k):\n",
    "    # Normalize for less degrees of freedom.\n",
    "    return 1 - ((1 - r2) * (n - 1) / (n - k - 1))\n",
    "    \n",
    "adjR2 = R2_adjust(R2, 100, 3)\n",
    "\n",
    "print(R2, adjR2)"
   ]
  },
  {
   "cell_type": "code",
   "execution_count": 8,
   "metadata": {},
   "outputs": [
    {
     "data": {
      "text/plain": [
       "0.8189910129355591"
      ]
     },
     "execution_count": 8,
     "metadata": {},
     "output_type": "execute_result"
    }
   ],
   "source": [
    "model.rsquared_adj"
   ]
  },
  {
   "cell_type": "markdown",
   "metadata": {},
   "source": [
    "## Mean Squared Error\n",
    "\n",
    "$MSE = \\frac{SSR}{n}$\n",
    "\n",
    "$RMSE = \\sqrt{MSE}$"
   ]
  },
  {
   "cell_type": "code",
   "execution_count": 9,
   "metadata": {},
   "outputs": [
    {
     "name": "stdout",
     "output_type": "stream",
     "text": [
      "2.045767334184161\n",
      "1.6239143565315217\n"
     ]
    }
   ],
   "source": [
    "x = np.random.uniform(0, 10, 20)\n",
    "y = 10 + x * 2 + np.random.randn(20) * 2\n",
    "x, y = x.reshape(-1, 1), y.reshape(-1, 1)\n",
    "\n",
    "lr = LinearRegression()\n",
    "lr.fit(x, y)\n",
    "\n",
    "rmse = np.sqrt(np.mean((lr.predict(x) - y)**2))\n",
    "print(rmse)\n",
    "\n",
    "mae = np.mean(abs(lr.predict(x) - y))\n",
    "print(mae)"
   ]
  },
  {
   "cell_type": "markdown",
   "metadata": {},
   "source": [
    "## Finding the coefficients\n",
    "### Closed form solution\n",
    "\n",
    "$$\\vec{w}= (X^TX)^{-1}X^T\\vec{y}$$"
   ]
  },
  {
   "cell_type": "markdown",
   "metadata": {},
   "source": [
    "### Gradient descent"
   ]
  },
  {
   "cell_type": "code",
   "execution_count": 10,
   "metadata": {},
   "outputs": [
    {
     "data": {
      "text/plain": [
       "60.98816495154739"
      ]
     },
     "execution_count": 10,
     "metadata": {},
     "output_type": "execute_result"
    }
   ],
   "source": [
    "n = 20\n",
    "x = np.random.uniform(0, 10, n)\n",
    "y = 0 + x * 2 + np.random.randn(n) * 2\n",
    "x, y = x.reshape(-1, 1), y.reshape(-1, 1)\n",
    "\n",
    "coef = 0\n",
    "\n",
    "def predict(x, coef):\n",
    "    return x * coef\n",
    "\n",
    "def mse(y_pred, y):\n",
    "    return np.mean((y_pred - y)**2) / 2\n",
    "\n",
    "y_pred = predict(x, coef)\n",
    "#print(y_pred)\n",
    "\n",
    "mse(y_pred, y)"
   ]
  },
  {
   "cell_type": "code",
   "execution_count": 11,
   "metadata": {},
   "outputs": [
    {
     "data": {
      "image/png": "[encoded data removed]",
      "text/plain": [
       "<Figure size 640x480 with 1 Axes>"
      ]
     },
     "metadata": {},
     "output_type": "display_data"
    }
   ],
   "source": [
    "coefs = np.linspace(-2, 6, 100)\n",
    "\n",
    "cost = []\n",
    "for c in coefs:\n",
    "    y_pred = predict(x, c)\n",
    "    cost.append(mse(y_pred, y))\n",
    "\n",
    "plt.plot(coefs, cost)\n",
    "plt.xlabel('Coefficient')\n",
    "plt.ylabel('Cost (MSE)')\n",
    "\n",
    "plt.show()"
   ]
  },
  {
   "cell_type": "code",
   "execution_count": 12,
   "metadata": {},
   "outputs": [
    {
     "data": {
      "text/plain": [
       "1.8977183020211406"
      ]
     },
     "execution_count": 12,
     "metadata": {},
     "output_type": "execute_result"
    }
   ],
   "source": [
    "def gradient(x, y, y_pred):\n",
    "    return np.mean((y_pred - y) * x)\n",
    "\n",
    "def update(grad, rate):\n",
    "    return rate * grad\n",
    "\n",
    "def fit(x, y, coef=0, n_iter=100, rate=0.01):\n",
    "    for i in range(n_iter):\n",
    "        #print(coef)\n",
    "        y_pred = predict(x, coef)\n",
    "        #print(mse(y_pred, y))\n",
    "        grad = gradient(x, y, y_pred)\n",
    "        #print(grad)\n",
    "        coef -= update(grad, rate)\n",
    "        \n",
    "    return coef\n",
    "        \n",
    "fit(x, y)"
   ]
  },
  {
   "cell_type": "code",
   "execution_count": 13,
   "metadata": {},
   "outputs": [
    {
     "data": {
      "text/plain": [
       "array([[1.        , 5.64798958],\n",
       "       [1.        , 8.41024523],\n",
       "       [1.        , 7.67570873],\n",
       "       [1.        , 9.63019318],\n",
       "       [1.        , 0.28006371],\n",
       "       [1.        , 9.65821181],\n",
       "       [1.        , 6.27606654],\n",
       "       [1.        , 4.66997098],\n",
       "       [1.        , 7.67438574],\n",
       "       [1.        , 8.78695977],\n",
       "       [1.        , 5.89468434],\n",
       "       [1.        , 2.00498159],\n",
       "       [1.        , 2.96809774],\n",
       "       [1.        , 5.94704618],\n",
       "       [1.        , 1.16555824],\n",
       "       [1.        , 4.70020336],\n",
       "       [1.        , 6.27466229],\n",
       "       [1.        , 5.41489716],\n",
       "       [1.        , 9.48876104],\n",
       "       [1.        , 6.45821872]])"
      ]
     },
     "execution_count": 13,
     "metadata": {},
     "output_type": "execute_result"
    }
   ],
   "source": [
    "n = 20\n",
    "x = np.random.uniform(0, 10, n)\n",
    "y = -5 + x * 2 + np.random.randn(n) * 2\n",
    "x, y = x.reshape(-1, 1), y.reshape(-1, 1)\n",
    "\n",
    "x = np.concatenate([np.ones(n).reshape(-1, 1), x], axis=1)\n",
    "x"
   ]
  },
  {
   "cell_type": "code",
   "execution_count": 14,
   "metadata": {},
   "outputs": [
    {
     "data": {
      "text/plain": [
       "array([-3.94814914,  1.72041003])"
      ]
     },
     "execution_count": 14,
     "metadata": {},
     "output_type": "execute_result"
    }
   ],
   "source": [
    "def predict(x, coef):\n",
    "    # Because 1*coef[0] + x[1]*coef[1] + ... +  x[n]*coef[n] is the dot product coef · x\n",
    "    return np.dot(x, coef).reshape(-1, 1)\n",
    "\n",
    "def gradient(x, y, y_pred):\n",
    "    return np.mean((y_pred - y) * x, axis=0)\n",
    "\n",
    "coef = fit(x, y, coef=np.zeros(2), n_iter=10000)\n",
    "coef"
   ]
  },
  {
   "cell_type": "code",
   "execution_count": 15,
   "metadata": {},
   "outputs": [
    {
     "name": "stdout",
     "output_type": "stream",
     "text": [
      "[-3.94814941] [[1.72041006]]\n"
     ]
    }
   ],
   "source": [
    "lr = LinearRegression().fit(x[:, 1:], y)\n",
    "print(lr.intercept_, lr.coef_)"
   ]
  },
  {
   "cell_type": "code",
   "execution_count": 16,
   "metadata": {},
   "outputs": [
    {
     "data": {
      "image/png": "[encoded data removed]",
      "text/plain": [
       "<Figure size 640x480 with 1 Axes>"
      ]
     },
     "metadata": {},
     "output_type": "display_data"
    }
   ],
   "source": [
    "plt.scatter(x[:, 1], y)\n",
    "plt.plot(x[:, 1], predict(x, coef), 'tab:orange')\n",
    "\n",
    "plt.show()"
   ]
  }
 ],
 "metadata": {
  "kernelspec": {
   "display_name": "Python 3 (ipykernel)",
   "language": "python",
   "name": "python3"
  },
  "language_info": {
   "codemirror_mode": {
    "name": "ipython",
    "version": 3
   },
   "file_extension": ".py",
   "mimetype": "text/x-python",
   "name": "python",
   "nbconvert_exporter": "python",
   "pygments_lexer": "ipython3",
   "version": "3.9.13"
  }
 },
 "nbformat": 4,
 "nbformat_minor": 4
}
