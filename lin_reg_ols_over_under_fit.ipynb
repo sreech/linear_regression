{
 "cells": [
  {
   "cell_type": "markdown",
   "metadata": {
    "deletable": false,
    "editable": false,
    "nbgrader": {
     "checksum": "81c9e50dc8dbb2f7d6d47bdc1eb44eac",
     "grade": false,
     "grade_id": "cell-eb51c5a6c8000a4e",
     "locked": true,
     "schema_version": 1,
     "solution": false
    }
   },
   "source": [
    "###### Let's start with importing what we need...  "
   ]
  },
  {
   "cell_type": "code",
   "execution_count": 1,
   "metadata": {
    "deletable": false,
    "editable": false,
    "nbgrader": {
     "checksum": "dbd77cc0f6ace3c1ded6ea72540ee344",
     "grade": false,
     "grade_id": "cell-784431d974160030",
     "locked": true,
     "schema_version": 1,
     "solution": false
    }
   },
   "outputs": [],
   "source": [
    "import numpy as np\n",
    "import pandas as pd\n",
    "import matplotlib.pyplot as plt\n",
    "import statsmodels.api as sm\n",
    "from statsmodels.formula.api import ols\n",
    "from scipy.stats import norm\n",
    "from sklearn.model_selection import train_test_split\n",
    "from sklearn.metrics import r2_score\n",
    "from sklearn import datasets "
   ]
  },
  {
   "cell_type": "markdown",
   "metadata": {
    "deletable": false,
    "editable": false,
    "nbgrader": {
     "checksum": "4c6f90dce8b30c2c453ecc0277d95269",
     "grade": false,
     "grade_id": "cell-7686284e03a9d7b2",
     "locked": true,
     "schema_version": 1,
     "solution": false
    }
   },
   "source": [
    "###### Let's load the publicly available diabetes dataset and print out a description of the dataset"
   ]
  },
  {
   "cell_type": "markdown",
   "metadata": {
    "deletable": false,
    "editable": false,
    "nbgrader": {
     "checksum": "03851f0c06e4cc1caaea4e52c75043af",
     "grade": false,
     "grade_id": "cell-cb16e916069333c8",
     "locked": true,
     "schema_version": 1,
     "solution": false
    }
   },
   "source": [
    "###### Your task is to build the best linear regression model you can using this data to predict the 'target' field."
   ]
  },
  {
   "cell_type": "markdown",
   "metadata": {
    "deletable": false,
    "editable": false,
    "nbgrader": {
     "checksum": "4a5f171baa44bd773aa8e8ac7465e210",
     "grade": false,
     "grade_id": "cell-c96f1ba04e988ef1",
     "locked": true,
     "schema_version": 1,
     "solution": false
    }
   },
   "source": [
    "#### Diabetes dataset\n",
    "\n",
    "Ten baseline variables, age, sex, body mass index, average blood pressure, and six blood serum measurements were obtained for each of n = 442 diabetes patients, as well as the response of interest, a quantitative measure of disease progression one year after baseline.\n",
    "Data Set Characteristics\n",
    "Number of Instances: 442\n",
    "Number of Attributes\n",
    "First 10 columns are numeric predictive values\n",
    "Target: Column 11 is a quantitative measure of disease progression one year after baseline\n",
    "Attribute Information\n",
    " - age:     age in years <br>\n",
    "  - sex:     sex <br>\n",
    "  - bmi:     body mass index <br>\n",
    "  - bp:      average blood pressure <br>\n",
    "  - s1:      tc, total serum cholesterol <br>\n",
    "  - s2:      ldl, low-density lipoproteins <br>\n",
    "  - s3:      hdl, high-density lipoproteins <br>\n",
    "  - s4:      tch, total cholesterol / HDL <br>\n",
    "  - s5:      ltg, possibly log of serum triglycerides level <br>\n",
    "  - s6:      glu, blood sugar level <br>\n",
    "Note: Each of these 10 feature variables have been mean centered and scaled by the standard deviation times n_samples (i.e. the sum of squares of each column totals 1).\n",
    "Source URL\n",
    "https://www4.stat.ncsu.edu/~boos/var.select/diabetes.html\n",
    "For more information see:\n",
    "Bradley Efron, Trevor Hastie, Iain Johnstone and Robert Tibshirani (2004) \"Least Angle Regression,\" Annals of Statistics (with discussion), 407-499. (https://web.stanford.edu/~hastie/Papers/LARS/LeastAngle_2002.pdf)\n",
    "\n",
    "\n",
    "Source URL: https://www4.stat.ncsu.edu/~boos/var.select/diabetes.html\n",
    "Data URL: https://www4.stat.ncsu.edu/~boos/var.select/diabetes.tab.txt\n",
    "Note: The Data URL mentioned-above is obtained from the source URL. The source URL provides detailed information about the dataset, variables and also reference links including the dataset link.\n",
    "\n"
   ]
  },
  {
   "cell_type": "markdown",
   "metadata": {
    "deletable": false,
    "editable": false,
    "nbgrader": {
     "checksum": "741baec6d78946ba8620515f4a486fe9",
     "grade": false,
     "grade_id": "cell-82b7cb2db1be0026",
     "locked": true,
     "schema_version": 1,
     "solution": false
    }
   },
   "source": [
    "##### Read in data into a dataframe then print the dataframe head."
   ]
  },
  {
   "cell_type": "code",
   "execution_count": 2,
   "metadata": {
    "deletable": false,
    "nbgrader": {
     "checksum": "c4e365a6ffacbd7bbbd4bceeb268fc0f",
     "grade": false,
     "grade_id": "cell-26aea6bc1fcf36d9",
     "locked": false,
     "schema_version": 1,
     "solution": true
    }
   },
   "outputs": [
    {
     "data": {
      "text/html": [
       "<div>\n",
       "<style scoped>\n",
       "    .dataframe tbody tr th:only-of-type {\n",
       "        vertical-align: middle;\n",
       "    }\n",
       "\n",
       "    .dataframe tbody tr th {\n",
       "        vertical-align: top;\n",
       "    }\n",
       "\n",
       "    .dataframe thead th {\n",
       "        text-align: right;\n",
       "    }\n",
       "</style>\n",
       "<table border=\"1\" class=\"dataframe\">\n",
       "  <thead>\n",
       "    <tr style=\"text-align: right;\">\n",
       "      <th></th>\n",
       "      <th>AGE</th>\n",
       "      <th>SEX</th>\n",
       "      <th>BMI</th>\n",
       "      <th>BP</th>\n",
       "      <th>S1</th>\n",
       "      <th>S2</th>\n",
       "      <th>S3</th>\n",
       "      <th>S4</th>\n",
       "      <th>S5</th>\n",
       "      <th>S6</th>\n",
       "      <th>Y</th>\n",
       "    </tr>\n",
       "  </thead>\n",
       "  <tbody>\n",
       "    <tr>\n",
       "      <th>0</th>\n",
       "      <td>59</td>\n",
       "      <td>2</td>\n",
       "      <td>32.1</td>\n",
       "      <td>101.0</td>\n",
       "      <td>157</td>\n",
       "      <td>93.2</td>\n",
       "      <td>38.0</td>\n",
       "      <td>4.0</td>\n",
       "      <td>4.8598</td>\n",
       "      <td>87</td>\n",
       "      <td>151</td>\n",
       "    </tr>\n",
       "    <tr>\n",
       "      <th>1</th>\n",
       "      <td>48</td>\n",
       "      <td>1</td>\n",
       "      <td>21.6</td>\n",
       "      <td>87.0</td>\n",
       "      <td>183</td>\n",
       "      <td>103.2</td>\n",
       "      <td>70.0</td>\n",
       "      <td>3.0</td>\n",
       "      <td>3.8918</td>\n",
       "      <td>69</td>\n",
       "      <td>75</td>\n",
       "    </tr>\n",
       "    <tr>\n",
       "      <th>2</th>\n",
       "      <td>72</td>\n",
       "      <td>2</td>\n",
       "      <td>30.5</td>\n",
       "      <td>93.0</td>\n",
       "      <td>156</td>\n",
       "      <td>93.6</td>\n",
       "      <td>41.0</td>\n",
       "      <td>4.0</td>\n",
       "      <td>4.6728</td>\n",
       "      <td>85</td>\n",
       "      <td>141</td>\n",
       "    </tr>\n",
       "    <tr>\n",
       "      <th>3</th>\n",
       "      <td>24</td>\n",
       "      <td>1</td>\n",
       "      <td>25.3</td>\n",
       "      <td>84.0</td>\n",
       "      <td>198</td>\n",
       "      <td>131.4</td>\n",
       "      <td>40.0</td>\n",
       "      <td>5.0</td>\n",
       "      <td>4.8903</td>\n",
       "      <td>89</td>\n",
       "      <td>206</td>\n",
       "    </tr>\n",
       "    <tr>\n",
       "      <th>4</th>\n",
       "      <td>50</td>\n",
       "      <td>1</td>\n",
       "      <td>23.0</td>\n",
       "      <td>101.0</td>\n",
       "      <td>192</td>\n",
       "      <td>125.4</td>\n",
       "      <td>52.0</td>\n",
       "      <td>4.0</td>\n",
       "      <td>4.2905</td>\n",
       "      <td>80</td>\n",
       "      <td>135</td>\n",
       "    </tr>\n",
       "  </tbody>\n",
       "</table>\n",
       "</div>"
      ],
      "text/plain": [
       "   AGE  SEX   BMI     BP   S1     S2    S3   S4      S5  S6    Y\n",
       "0   59    2  32.1  101.0  157   93.2  38.0  4.0  4.8598  87  151\n",
       "1   48    1  21.6   87.0  183  103.2  70.0  3.0  3.8918  69   75\n",
       "2   72    2  30.5   93.0  156   93.6  41.0  4.0  4.6728  85  141\n",
       "3   24    1  25.3   84.0  198  131.4  40.0  5.0  4.8903  89  206\n",
       "4   50    1  23.0  101.0  192  125.4  52.0  4.0  4.2905  80  135"
      ]
     },
     "execution_count": 2,
     "metadata": {},
     "output_type": "execute_result"
    }
   ],
   "source": [
    " #Use this URL to read in the data into a pandas dataframe called \"df\".\n",
    "#Hint: set sep=\"\\t\" when reading in the csv file. \n",
    "# YOUR CODE HERE\n",
    "import pandas as pd\n",
    "\n",
    "url=\"https://www4.stat.ncsu.edu/~boos/var.select/diabetes.tab.txt\"\n",
    "df=pd.read_csv(url,sep = '\\t',engine = 'python')\n",
    "df.head(5)"
   ]
  },
  {
   "cell_type": "code",
   "execution_count": null,
   "metadata": {
    "deletable": false,
    "editable": false,
    "nbgrader": {
     "checksum": "d47bf65b97c24853ca48a33c1f06cefd",
     "grade": true,
     "grade_id": "cell-9e5e1e9454377b26",
     "locked": true,
     "points": 2,
     "schema_version": 1,
     "solution": false
    }
   },
   "outputs": [],
   "source": []
  },
  {
   "cell_type": "markdown",
   "metadata": {
    "deletable": false,
    "editable": false,
    "nbgrader": {
     "checksum": "94251dab622ae294b562c5f0d067c2b0",
     "grade": false,
     "grade_id": "cell-b171277c7933793c",
     "locked": true,
     "schema_version": 1,
     "solution": false
    }
   },
   "source": [
    "###### Basic field information"
   ]
  },
  {
   "cell_type": "code",
   "execution_count": 4,
   "metadata": {
    "deletable": false,
    "editable": false,
    "nbgrader": {
     "checksum": "9a09b978a7d7e8ffc74d4d220ebe17ce",
     "grade": false,
     "grade_id": "cell-47ce9356e934e45b",
     "locked": true,
     "schema_version": 1,
     "solution": false
    }
   },
   "outputs": [
    {
     "name": "stdout",
     "output_type": "stream",
     "text": [
      "<class 'pandas.core.frame.DataFrame'>\n",
      "RangeIndex: 442 entries, 0 to 441\n",
      "Data columns (total 11 columns):\n",
      " #   Column  Non-Null Count  Dtype   \n",
      "---  ------  --------------  -----   \n",
      " 0   AGE     442 non-null    int64   \n",
      " 1   SEX     442 non-null    category\n",
      " 2   BMI     442 non-null    float64 \n",
      " 3   BP      442 non-null    float64 \n",
      " 4   S1      442 non-null    int64   \n",
      " 5   S2      442 non-null    float64 \n",
      " 6   S3      442 non-null    float64 \n",
      " 7   S4      442 non-null    float64 \n",
      " 8   S5      442 non-null    float64 \n",
      " 9   S6      442 non-null    int64   \n",
      " 10  Y       442 non-null    int64   \n",
      "dtypes: category(1), float64(6), int64(4)\n",
      "memory usage: 35.2 KB\n"
     ]
    }
   ],
   "source": [
    "df.info()"
   ]
  },
  {
   "cell_type": "markdown",
   "metadata": {
    "deletable": false,
    "editable": false,
    "nbgrader": {
     "checksum": "939fd3bcb602cdc20af4f2b4a1d52e59",
     "grade": false,
     "grade_id": "cell-d9ace78fc39d5f71",
     "locked": true,
     "schema_version": 1,
     "solution": false
    }
   },
   "source": [
    "###### Convert sex to a categorical variable"
   ]
  },
  {
   "cell_type": "code",
   "execution_count": 3,
   "metadata": {
    "deletable": false,
    "nbgrader": {
     "checksum": "b7723dec69e0f9fc42484114923bd26d",
     "grade": false,
     "grade_id": "cell-dd73b02e9822b368",
     "locked": false,
     "schema_version": 1,
     "solution": true
    }
   },
   "outputs": [],
   "source": [
    "# YOUR CODE HERE\n",
    "categorical_variable=['SEX']\n",
    "df[categorical_variable]=df[categorical_variable].astype('category')"
   ]
  },
  {
   "cell_type": "code",
   "execution_count": null,
   "metadata": {
    "deletable": false,
    "editable": false,
    "nbgrader": {
     "checksum": "4093f7ece9b89b58b07796c672fa7029",
     "grade": true,
     "grade_id": "cell-d46cc0bef61a522f",
     "locked": true,
     "points": 2,
     "schema_version": 1,
     "solution": false
    }
   },
   "outputs": [],
   "source": []
  },
  {
   "cell_type": "code",
   "execution_count": 5,
   "metadata": {
    "deletable": false,
    "editable": false,
    "nbgrader": {
     "checksum": "32c1a83deb51b319ecaccf780a6f34e4",
     "grade": false,
     "grade_id": "cell-19ead13178ad97c4",
     "locked": true,
     "schema_version": 1,
     "solution": false
    }
   },
   "outputs": [
    {
     "name": "stdout",
     "output_type": "stream",
     "text": [
      "<class 'pandas.core.frame.DataFrame'>\n",
      "RangeIndex: 442 entries, 0 to 441\n",
      "Data columns (total 11 columns):\n",
      " #   Column  Non-Null Count  Dtype   \n",
      "---  ------  --------------  -----   \n",
      " 0   AGE     442 non-null    int64   \n",
      " 1   SEX     442 non-null    category\n",
      " 2   BMI     442 non-null    float64 \n",
      " 3   BP      442 non-null    float64 \n",
      " 4   S1      442 non-null    int64   \n",
      " 5   S2      442 non-null    float64 \n",
      " 6   S3      442 non-null    float64 \n",
      " 7   S4      442 non-null    float64 \n",
      " 8   S5      442 non-null    float64 \n",
      " 9   S6      442 non-null    int64   \n",
      " 10  Y       442 non-null    int64   \n",
      "dtypes: category(1), float64(6), int64(4)\n",
      "memory usage: 35.2 KB\n"
     ]
    }
   ],
   "source": [
    "df.info()"
   ]
  },
  {
   "cell_type": "markdown",
   "metadata": {
    "deletable": false,
    "editable": false,
    "nbgrader": {
     "checksum": "e61fa9f37383de63bdea47911e0cd21c",
     "grade": false,
     "grade_id": "cell-a979b95cb71debf1",
     "locked": true,
     "schema_version": 1,
     "solution": false
    }
   },
   "source": [
    "###### Next, examine the dataframe"
   ]
  },
  {
   "cell_type": "code",
   "execution_count": 6,
   "metadata": {
    "deletable": false,
    "nbgrader": {
     "checksum": "53cde3570a13de626d68838c7625147e",
     "grade": false,
     "grade_id": "cell-5b82d5671dedf8b3",
     "locked": false,
     "schema_version": 1,
     "solution": true
    }
   },
   "outputs": [
    {
     "name": "stdout",
     "output_type": "stream",
     "text": [
      "               AGE    SEX         BMI          BP          S1          S2  \\\n",
      "count   442.000000  442.0  442.000000  442.000000  442.000000  442.000000   \n",
      "unique         NaN    2.0         NaN         NaN         NaN         NaN   \n",
      "top            NaN    1.0         NaN         NaN         NaN         NaN   \n",
      "freq           NaN  235.0         NaN         NaN         NaN         NaN   \n",
      "mean     48.518100    NaN   26.375792   94.647014  189.140271  115.439140   \n",
      "std      13.109028    NaN    4.418122   13.831283   34.608052   30.413081   \n",
      "min      19.000000    NaN   18.000000   62.000000   97.000000   41.600000   \n",
      "25%      38.250000    NaN   23.200000   84.000000  164.250000   96.050000   \n",
      "50%      50.000000    NaN   25.700000   93.000000  186.000000  113.000000   \n",
      "75%      59.000000    NaN   29.275000  105.000000  209.750000  134.500000   \n",
      "max      79.000000    NaN   42.200000  133.000000  301.000000  242.400000   \n",
      "\n",
      "                S3          S4          S5          S6           Y  \n",
      "count   442.000000  442.000000  442.000000  442.000000  442.000000  \n",
      "unique         NaN         NaN         NaN         NaN         NaN  \n",
      "top            NaN         NaN         NaN         NaN         NaN  \n",
      "freq           NaN         NaN         NaN         NaN         NaN  \n",
      "mean     49.788462    4.070249    4.641411   91.260181  152.133484  \n",
      "std      12.934202    1.290450    0.522391   11.496335   77.093005  \n",
      "min      22.000000    2.000000    3.258100   58.000000   25.000000  \n",
      "25%      40.250000    3.000000    4.276700   83.250000   87.000000  \n",
      "50%      48.000000    4.000000    4.620050   91.000000  140.500000  \n",
      "75%      57.750000    5.000000    4.997200   98.000000  211.500000  \n",
      "max      99.000000    9.090000    6.107000  124.000000  346.000000  \n"
     ]
    }
   ],
   "source": [
    "#Use Panda's describe function to peak into the dataframe.\n",
    "# be sure to include the parameter include= \"all\" to grab the \n",
    "# columns where the statistic is Inappropriate for the datatype. \n",
    "# set the output to \"dfDescription' so the result can be printed\"\n",
    "# YOUR CODE HERE\n",
    "dfDescription = df.describe(include='all')\n",
    "#raise NotImplementedError()\n",
    "print (dfDescription)"
   ]
  },
  {
   "cell_type": "code",
   "execution_count": null,
   "metadata": {
    "deletable": false,
    "editable": false,
    "nbgrader": {
     "checksum": "fb074cfb62d69402650381e92f295c95",
     "grade": true,
     "grade_id": "cell-dbcee3078b4dbe91",
     "locked": true,
     "points": 2,
     "schema_version": 1,
     "solution": false
    }
   },
   "outputs": [],
   "source": []
  },
  {
   "cell_type": "markdown",
   "metadata": {
    "deletable": false,
    "editable": false,
    "nbgrader": {
     "checksum": "5cb5e6e69fc1848d5bd452f7173044c5",
     "grade": false,
     "grade_id": "cell-73cf5e801da56931",
     "locked": true,
     "schema_version": 1,
     "solution": false
    }
   },
   "source": [
    "###### Split dataframe into train and test subsets"
   ]
  },
  {
   "cell_type": "code",
   "execution_count": 7,
   "metadata": {
    "deletable": false,
    "nbgrader": {
     "checksum": "93e74c11f698f7f4df2c9986e66844fe",
     "grade": false,
     "grade_id": "cell-b89432a79e197729",
     "locked": false,
     "schema_version": 1,
     "solution": true
    }
   },
   "outputs": [
    {
     "data": {
      "text/plain": [
       "(133, 11)"
      ]
     },
     "execution_count": 7,
     "metadata": {},
     "output_type": "execute_result"
    }
   ],
   "source": [
    "# Use train_test_split() to split the train and test sets.\n",
    "# Set test_size to 0.3\n",
    "# Set random_state to 42\n",
    "# The train and tests sets need to be called \"df_train\" and \"df_test\".\n",
    "# YOUR CODE HERE\n",
    "df_train, df_test = train_test_split(df, test_size=0.3,random_state=42)\n",
    "df_train.shape\n",
    "df_test.shape"
   ]
  },
  {
   "cell_type": "code",
   "execution_count": null,
   "metadata": {
    "deletable": false,
    "editable": false,
    "nbgrader": {
     "checksum": "3245e0649337fde127c0544aa3d99e21",
     "grade": true,
     "grade_id": "cell-cc8e1a77afc974fc",
     "locked": true,
     "points": 2,
     "schema_version": 1,
     "solution": false
    }
   },
   "outputs": [],
   "source": []
  },
  {
   "cell_type": "markdown",
   "metadata": {
    "deletable": false,
    "editable": false,
    "nbgrader": {
     "checksum": "831f89b5dc5b91585c5ab868f3be9700",
     "grade": false,
     "grade_id": "cell-29639d58cb78498f",
     "locked": true,
     "schema_version": 1,
     "solution": false
    }
   },
   "source": [
    "###### Fit Multilinear OLS regression model using training dataset and save the result in 'est_train' variable. \n",
    "Print model summary"
   ]
  },
  {
   "cell_type": "code",
   "execution_count": 9,
   "metadata": {
    "deletable": false,
    "nbgrader": {
     "checksum": "e1a3c8761e9b6f7945cbd2ff25020bfb",
     "grade": false,
     "grade_id": "cell-9861908308c8fccb",
     "locked": false,
     "schema_version": 1,
     "solution": true
    }
   },
   "outputs": [
    {
     "name": "stdout",
     "output_type": "stream",
     "text": [
      "                            OLS Regression Results                            \n",
      "==============================================================================\n",
      "Dep. Variable:                      Y   R-squared:                       0.485\n",
      "Model:                            OLS   Adj. R-squared:                  0.469\n",
      "Method:                 Least Squares   F-statistic:                     31.23\n",
      "Date:                Mon, 15 Jan 2024   Prob (F-statistic):           2.82e-38\n",
      "Time:                        17:26:37   Log-Likelihood:                -1683.9\n",
      "No. Observations:                 309   AIC:                             3388.\n",
      "Df Residuals:                     299   BIC:                             3425.\n",
      "Df Model:                           9                                         \n",
      "Covariance Type:            nonrobust                                         \n",
      "==============================================================================\n",
      "                 coef    std err          t      P>|t|      [0.025      0.975]\n",
      "------------------------------------------------------------------------------\n",
      "Intercept   -295.5125     81.152     -3.641      0.000    -455.214    -135.811\n",
      "SEX[T.2]     -19.2424      7.165     -2.686      0.008     -33.342      -5.143\n",
      "AGE            0.3292      0.277      1.190      0.235      -0.215       0.874\n",
      "BMI            7.0236      0.880      7.982      0.000       5.292       8.755\n",
      "S1            -1.0185      0.684     -1.490      0.137      -2.364       0.327\n",
      "S2             0.6502      0.627      1.037      0.301      -0.584       1.884\n",
      "S3             0.2161      0.939      0.230      0.818      -1.631       2.063\n",
      "S4             6.2244      7.485      0.832      0.406      -8.505      20.954\n",
      "S5            62.8168     19.689      3.190      0.002      24.070     101.564\n",
      "S6             0.4825      0.337      1.430      0.154      -0.181       1.146\n",
      "==============================================================================\n",
      "Omnibus:                        3.115   Durbin-Watson:                   1.814\n",
      "Prob(Omnibus):                  0.211   Jarque-Bera (JB):                2.547\n",
      "Skew:                           0.105   Prob(JB):                        0.280\n",
      "Kurtosis:                       2.608   Cond. No.                     6.51e+03\n",
      "==============================================================================\n",
      "\n",
      "Notes:\n",
      "[1] Standard Errors assume that the covariance matrix of the errors is correctly specified.\n",
      "[2] The condition number is large, 6.51e+03. This might indicate that there are\n",
      "strong multicollinearity or other numerical problems.\n"
     ]
    }
   ],
   "source": [
    "# YOUR CODE HERE\n",
    "est_train = ols(formula=\"Y ~ AGE+SEX+BMI+S1+S2+S3+S4+S5+S6\", data=df_train).fit()\n",
    "print(est_train.summary())"
   ]
  },
  {
   "cell_type": "code",
   "execution_count": null,
   "metadata": {
    "deletable": false,
    "editable": false,
    "nbgrader": {
     "checksum": "290c8e68ed5f5e481b00f2264dfda92d",
     "grade": true,
     "grade_id": "cell-0345ff06af3c981c",
     "locked": true,
     "points": 2,
     "schema_version": 1,
     "solution": false
    }
   },
   "outputs": [],
   "source": []
  },
  {
   "cell_type": "markdown",
   "metadata": {
    "deletable": false,
    "editable": false,
    "nbgrader": {
     "checksum": "4b3aff49c0569a462142101aaa2c15ae",
     "grade": false,
     "grade_id": "cell-e32461645a118ac1",
     "locked": true,
     "schema_version": 1,
     "solution": false
    }
   },
   "source": [
    "###### Extract non significant coef (p< .05: SEX + BMI + S3 + S5), rerun model."
   ]
  },
  {
   "cell_type": "code",
   "execution_count": 10,
   "metadata": {
    "deletable": false,
    "nbgrader": {
     "checksum": "40e83aab97cd0a8886c8b90c6a03e362",
     "grade": false,
     "grade_id": "cell-55c4cc66a08cb317",
     "locked": false,
     "schema_version": 1,
     "solution": true
    }
   },
   "outputs": [
    {
     "name": "stdout",
     "output_type": "stream",
     "text": [
      "Intercept   -176.648928\n",
      "SEX[T.2]     -17.185273\n",
      "BMI            7.377660\n",
      "S3            -1.065873\n",
      "S5            41.824183\n",
      "dtype: float64\n"
     ]
    }
   ],
   "source": [
    "# YOUR CODE HERE\n",
    "est_train = ols(formula=\"Y ~ SEX+BMI+S3+S5\", data=df_train).fit()\n",
    "print(est_train.params)"
   ]
  },
  {
   "cell_type": "code",
   "execution_count": null,
   "metadata": {
    "deletable": false,
    "editable": false,
    "nbgrader": {
     "checksum": "a3e78c232d6cdad9c248b35a3d035c4c",
     "grade": true,
     "grade_id": "cell-ab9b9302fc763be6",
     "locked": true,
     "points": 2,
     "schema_version": 1,
     "solution": false
    }
   },
   "outputs": [],
   "source": []
  },
  {
   "cell_type": "markdown",
   "metadata": {
    "deletable": false,
    "editable": false,
    "nbgrader": {
     "checksum": "224ef207a05ea07615f11e9a23ab6ee6",
     "grade": false,
     "grade_id": "cell-40018aca656cdf20",
     "locked": true,
     "schema_version": 1,
     "solution": false
    }
   },
   "source": [
    "###### How well does it do on the test data? Lets use the model we trained on the training data to make predictions on the test data and then measure the R^2"
   ]
  },
  {
   "cell_type": "code",
   "execution_count": 11,
   "metadata": {
    "deletable": false,
    "nbgrader": {
     "checksum": "0ec68a2fe77af8921bee8542133cd3aa",
     "grade": false,
     "grade_id": "cell-9cef15063e405f7b",
     "locked": false,
     "schema_version": 1,
     "solution": true
    }
   },
   "outputs": [
    {
     "name": "stdout",
     "output_type": "stream",
     "text": [
      "OOS R-squared: 0.48511853284845063\n"
     ]
    }
   ],
   "source": [
    "# Set the r2 results to \"r2\"\n",
    "# YOUR CODE HERE\n",
    "test_pred = est_train.predict(df_test)\n",
    "r2=r2_score(df_test['Y'],test_pred)\n",
    "print('OOS R-squared: '+ str(r2))\n"
   ]
  },
  {
   "cell_type": "code",
   "execution_count": null,
   "metadata": {
    "deletable": false,
    "editable": false,
    "nbgrader": {
     "checksum": "dae24ec83083bcef4ac870f58f8b3930",
     "grade": true,
     "grade_id": "cell-a6f931b40ee86175",
     "locked": true,
     "points": 2,
     "schema_version": 1,
     "solution": false
    }
   },
   "outputs": [],
   "source": []
  }
 ],
 "metadata": {
  "kernelspec": {
   "display_name": "Python 3",
   "language": "python",
   "name": "python3"
  },
  "language_info": {
   "codemirror_mode": {
    "name": "ipython",
    "version": 3
   },
   "file_extension": ".py",
   "mimetype": "text/x-python",
   "name": "python",
   "nbconvert_exporter": "python",
   "pygments_lexer": "ipython3",
   "version": "3.6.9"
  }
 },
 "nbformat": 4,
 "nbformat_minor": 2
}
